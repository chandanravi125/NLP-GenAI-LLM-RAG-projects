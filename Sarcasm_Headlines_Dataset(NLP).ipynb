{
  "cells": [
    {
      "cell_type": "code",
      "execution_count": null,
      "metadata": {
        "id": "VGz4q89ppJKK"
      },
      "outputs": [],
      "source": [
        "import tensorflow as tf\n",
        "from tensorflow import keras\n",
        "from tensorflow.keras.preprocessing.text import Tokenizer\n",
        "from tensorflow.keras.preprocessing.sequence import pad_sequences\n",
        "\n",
        "from tensorflow.keras.models import Sequential\n",
        "from tensorflow.keras.layers import Embedding, GlobalAveragePooling1D, Dense\n",
        "\n",
        "\n",
        "from tensorflow.keras.layers import Activation\n",
        "from tensorflow.keras.activations import sigmoid\n"
      ]
    },
    {
      "cell_type": "markdown",
      "source": [
        "# \"sarcastic or not\"(classifiy text by sentiment)"
      ],
      "metadata": {
        "id": "Y8z_DlE6OBDS"
      }
    },
    {
      "cell_type": "code",
      "execution_count": null,
      "metadata": {
        "id": "pDYXX8FE26_1"
      },
      "outputs": [],
      "source": [
        "# to build a classifier to recognize a sentence in text.  # sarcasting or not\n"
      ]
    },
    {
      "cell_type": "code",
      "source": [
        "import pandas as pd\n",
        "data = pd.read_json('/content/drive/MyDrive/Dataset/Unified mentors/Sarcasm_Headlines_Dataset.json', lines=True)\n"
      ],
      "metadata": {
        "id": "P6dXkbceuoSP"
      },
      "execution_count": null,
      "outputs": []
    },
    {
      "cell_type": "code",
      "source": [
        "data.head(10)"
      ],
      "metadata": {
        "colab": {
          "base_uri": "https://localhost:8080/",
          "height": 363
        },
        "id": "e2rTsrepwZja",
        "outputId": "3927bbf9-1009-4321-807d-8f2c336e3023"
      },
      "execution_count": null,
      "outputs": [
        {
          "output_type": "execute_result",
          "data": {
            "text/plain": [
              "   is_sarcastic                                           headline  \\\n",
              "0             1  thirtysomething scientists unveil doomsday clo...   \n",
              "1             0  dem rep. totally nails why congress is falling...   \n",
              "2             0  eat your veggies: 9 deliciously different recipes   \n",
              "3             1  inclement weather prevents liar from getting t...   \n",
              "4             1  mother comes pretty close to using word 'strea...   \n",
              "5             0                               my white inheritance   \n",
              "6             0         5 ways to file your taxes with less stress   \n",
              "7             1  richard branson's global-warming donation near...   \n",
              "8             1  shadow government getting too large to meet in...   \n",
              "9             0                 lots of parents know this scenario   \n",
              "\n",
              "                                        article_link  \n",
              "0  https://www.theonion.com/thirtysomething-scien...  \n",
              "1  https://www.huffingtonpost.com/entry/donna-edw...  \n",
              "2  https://www.huffingtonpost.com/entry/eat-your-...  \n",
              "3  https://local.theonion.com/inclement-weather-p...  \n",
              "4  https://www.theonion.com/mother-comes-pretty-c...  \n",
              "5  https://www.huffingtonpost.com/entry/my-white-...  \n",
              "6  https://www.huffingtonpost.com/entry/5-ways-to...  \n",
              "7  https://www.theonion.com/richard-bransons-glob...  \n",
              "8  https://politics.theonion.com/shadow-governmen...  \n",
              "9  https://www.huffingtonpost.comhttp://pubx.co/6...  "
            ],
            "text/html": [
              "\n",
              "  <div id=\"df-02d042ff-41a3-43af-824a-fb8926492d62\" class=\"colab-df-container\">\n",
              "    <div>\n",
              "<style scoped>\n",
              "    .dataframe tbody tr th:only-of-type {\n",
              "        vertical-align: middle;\n",
              "    }\n",
              "\n",
              "    .dataframe tbody tr th {\n",
              "        vertical-align: top;\n",
              "    }\n",
              "\n",
              "    .dataframe thead th {\n",
              "        text-align: right;\n",
              "    }\n",
              "</style>\n",
              "<table border=\"1\" class=\"dataframe\">\n",
              "  <thead>\n",
              "    <tr style=\"text-align: right;\">\n",
              "      <th></th>\n",
              "      <th>is_sarcastic</th>\n",
              "      <th>headline</th>\n",
              "      <th>article_link</th>\n",
              "    </tr>\n",
              "  </thead>\n",
              "  <tbody>\n",
              "    <tr>\n",
              "      <th>0</th>\n",
              "      <td>1</td>\n",
              "      <td>thirtysomething scientists unveil doomsday clo...</td>\n",
              "      <td>https://www.theonion.com/thirtysomething-scien...</td>\n",
              "    </tr>\n",
              "    <tr>\n",
              "      <th>1</th>\n",
              "      <td>0</td>\n",
              "      <td>dem rep. totally nails why congress is falling...</td>\n",
              "      <td>https://www.huffingtonpost.com/entry/donna-edw...</td>\n",
              "    </tr>\n",
              "    <tr>\n",
              "      <th>2</th>\n",
              "      <td>0</td>\n",
              "      <td>eat your veggies: 9 deliciously different recipes</td>\n",
              "      <td>https://www.huffingtonpost.com/entry/eat-your-...</td>\n",
              "    </tr>\n",
              "    <tr>\n",
              "      <th>3</th>\n",
              "      <td>1</td>\n",
              "      <td>inclement weather prevents liar from getting t...</td>\n",
              "      <td>https://local.theonion.com/inclement-weather-p...</td>\n",
              "    </tr>\n",
              "    <tr>\n",
              "      <th>4</th>\n",
              "      <td>1</td>\n",
              "      <td>mother comes pretty close to using word 'strea...</td>\n",
              "      <td>https://www.theonion.com/mother-comes-pretty-c...</td>\n",
              "    </tr>\n",
              "    <tr>\n",
              "      <th>5</th>\n",
              "      <td>0</td>\n",
              "      <td>my white inheritance</td>\n",
              "      <td>https://www.huffingtonpost.com/entry/my-white-...</td>\n",
              "    </tr>\n",
              "    <tr>\n",
              "      <th>6</th>\n",
              "      <td>0</td>\n",
              "      <td>5 ways to file your taxes with less stress</td>\n",
              "      <td>https://www.huffingtonpost.com/entry/5-ways-to...</td>\n",
              "    </tr>\n",
              "    <tr>\n",
              "      <th>7</th>\n",
              "      <td>1</td>\n",
              "      <td>richard branson's global-warming donation near...</td>\n",
              "      <td>https://www.theonion.com/richard-bransons-glob...</td>\n",
              "    </tr>\n",
              "    <tr>\n",
              "      <th>8</th>\n",
              "      <td>1</td>\n",
              "      <td>shadow government getting too large to meet in...</td>\n",
              "      <td>https://politics.theonion.com/shadow-governmen...</td>\n",
              "    </tr>\n",
              "    <tr>\n",
              "      <th>9</th>\n",
              "      <td>0</td>\n",
              "      <td>lots of parents know this scenario</td>\n",
              "      <td>https://www.huffingtonpost.comhttp://pubx.co/6...</td>\n",
              "    </tr>\n",
              "  </tbody>\n",
              "</table>\n",
              "</div>\n",
              "    <div class=\"colab-df-buttons\">\n",
              "\n",
              "  <div class=\"colab-df-container\">\n",
              "    <button class=\"colab-df-convert\" onclick=\"convertToInteractive('df-02d042ff-41a3-43af-824a-fb8926492d62')\"\n",
              "            title=\"Convert this dataframe to an interactive table.\"\n",
              "            style=\"display:none;\">\n",
              "\n",
              "  <svg xmlns=\"http://www.w3.org/2000/svg\" height=\"24px\" viewBox=\"0 -960 960 960\">\n",
              "    <path d=\"M120-120v-720h720v720H120Zm60-500h600v-160H180v160Zm220 220h160v-160H400v160Zm0 220h160v-160H400v160ZM180-400h160v-160H180v160Zm440 0h160v-160H620v160ZM180-180h160v-160H180v160Zm440 0h160v-160H620v160Z\"/>\n",
              "  </svg>\n",
              "    </button>\n",
              "\n",
              "  <style>\n",
              "    .colab-df-container {\n",
              "      display:flex;\n",
              "      gap: 12px;\n",
              "    }\n",
              "\n",
              "    .colab-df-convert {\n",
              "      background-color: #E8F0FE;\n",
              "      border: none;\n",
              "      border-radius: 50%;\n",
              "      cursor: pointer;\n",
              "      display: none;\n",
              "      fill: #1967D2;\n",
              "      height: 32px;\n",
              "      padding: 0 0 0 0;\n",
              "      width: 32px;\n",
              "    }\n",
              "\n",
              "    .colab-df-convert:hover {\n",
              "      background-color: #E2EBFA;\n",
              "      box-shadow: 0px 1px 2px rgba(60, 64, 67, 0.3), 0px 1px 3px 1px rgba(60, 64, 67, 0.15);\n",
              "      fill: #174EA6;\n",
              "    }\n",
              "\n",
              "    .colab-df-buttons div {\n",
              "      margin-bottom: 4px;\n",
              "    }\n",
              "\n",
              "    [theme=dark] .colab-df-convert {\n",
              "      background-color: #3B4455;\n",
              "      fill: #D2E3FC;\n",
              "    }\n",
              "\n",
              "    [theme=dark] .colab-df-convert:hover {\n",
              "      background-color: #434B5C;\n",
              "      box-shadow: 0px 1px 3px 1px rgba(0, 0, 0, 0.15);\n",
              "      filter: drop-shadow(0px 1px 2px rgba(0, 0, 0, 0.3));\n",
              "      fill: #FFFFFF;\n",
              "    }\n",
              "  </style>\n",
              "\n",
              "    <script>\n",
              "      const buttonEl =\n",
              "        document.querySelector('#df-02d042ff-41a3-43af-824a-fb8926492d62 button.colab-df-convert');\n",
              "      buttonEl.style.display =\n",
              "        google.colab.kernel.accessAllowed ? 'block' : 'none';\n",
              "\n",
              "      async function convertToInteractive(key) {\n",
              "        const element = document.querySelector('#df-02d042ff-41a3-43af-824a-fb8926492d62');\n",
              "        const dataTable =\n",
              "          await google.colab.kernel.invokeFunction('convertToInteractive',\n",
              "                                                    [key], {});\n",
              "        if (!dataTable) return;\n",
              "\n",
              "        const docLinkHtml = 'Like what you see? Visit the ' +\n",
              "          '<a target=\"_blank\" href=https://colab.research.google.com/notebooks/data_table.ipynb>data table notebook</a>'\n",
              "          + ' to learn more about interactive tables.';\n",
              "        element.innerHTML = '';\n",
              "        dataTable['output_type'] = 'display_data';\n",
              "        await google.colab.output.renderOutput(dataTable, element);\n",
              "        const docLink = document.createElement('div');\n",
              "        docLink.innerHTML = docLinkHtml;\n",
              "        element.appendChild(docLink);\n",
              "      }\n",
              "    </script>\n",
              "  </div>\n",
              "\n",
              "\n",
              "<div id=\"df-182f4c2d-cfdb-4fc2-85fe-2be5873339e0\">\n",
              "  <button class=\"colab-df-quickchart\" onclick=\"quickchart('df-182f4c2d-cfdb-4fc2-85fe-2be5873339e0')\"\n",
              "            title=\"Suggest charts\"\n",
              "            style=\"display:none;\">\n",
              "\n",
              "<svg xmlns=\"http://www.w3.org/2000/svg\" height=\"24px\"viewBox=\"0 0 24 24\"\n",
              "     width=\"24px\">\n",
              "    <g>\n",
              "        <path d=\"M19 3H5c-1.1 0-2 .9-2 2v14c0 1.1.9 2 2 2h14c1.1 0 2-.9 2-2V5c0-1.1-.9-2-2-2zM9 17H7v-7h2v7zm4 0h-2V7h2v10zm4 0h-2v-4h2v4z\"/>\n",
              "    </g>\n",
              "</svg>\n",
              "  </button>\n",
              "\n",
              "<style>\n",
              "  .colab-df-quickchart {\n",
              "      --bg-color: #E8F0FE;\n",
              "      --fill-color: #1967D2;\n",
              "      --hover-bg-color: #E2EBFA;\n",
              "      --hover-fill-color: #174EA6;\n",
              "      --disabled-fill-color: #AAA;\n",
              "      --disabled-bg-color: #DDD;\n",
              "  }\n",
              "\n",
              "  [theme=dark] .colab-df-quickchart {\n",
              "      --bg-color: #3B4455;\n",
              "      --fill-color: #D2E3FC;\n",
              "      --hover-bg-color: #434B5C;\n",
              "      --hover-fill-color: #FFFFFF;\n",
              "      --disabled-bg-color: #3B4455;\n",
              "      --disabled-fill-color: #666;\n",
              "  }\n",
              "\n",
              "  .colab-df-quickchart {\n",
              "    background-color: var(--bg-color);\n",
              "    border: none;\n",
              "    border-radius: 50%;\n",
              "    cursor: pointer;\n",
              "    display: none;\n",
              "    fill: var(--fill-color);\n",
              "    height: 32px;\n",
              "    padding: 0;\n",
              "    width: 32px;\n",
              "  }\n",
              "\n",
              "  .colab-df-quickchart:hover {\n",
              "    background-color: var(--hover-bg-color);\n",
              "    box-shadow: 0 1px 2px rgba(60, 64, 67, 0.3), 0 1px 3px 1px rgba(60, 64, 67, 0.15);\n",
              "    fill: var(--button-hover-fill-color);\n",
              "  }\n",
              "\n",
              "  .colab-df-quickchart-complete:disabled,\n",
              "  .colab-df-quickchart-complete:disabled:hover {\n",
              "    background-color: var(--disabled-bg-color);\n",
              "    fill: var(--disabled-fill-color);\n",
              "    box-shadow: none;\n",
              "  }\n",
              "\n",
              "  .colab-df-spinner {\n",
              "    border: 2px solid var(--fill-color);\n",
              "    border-color: transparent;\n",
              "    border-bottom-color: var(--fill-color);\n",
              "    animation:\n",
              "      spin 1s steps(1) infinite;\n",
              "  }\n",
              "\n",
              "  @keyframes spin {\n",
              "    0% {\n",
              "      border-color: transparent;\n",
              "      border-bottom-color: var(--fill-color);\n",
              "      border-left-color: var(--fill-color);\n",
              "    }\n",
              "    20% {\n",
              "      border-color: transparent;\n",
              "      border-left-color: var(--fill-color);\n",
              "      border-top-color: var(--fill-color);\n",
              "    }\n",
              "    30% {\n",
              "      border-color: transparent;\n",
              "      border-left-color: var(--fill-color);\n",
              "      border-top-color: var(--fill-color);\n",
              "      border-right-color: var(--fill-color);\n",
              "    }\n",
              "    40% {\n",
              "      border-color: transparent;\n",
              "      border-right-color: var(--fill-color);\n",
              "      border-top-color: var(--fill-color);\n",
              "    }\n",
              "    60% {\n",
              "      border-color: transparent;\n",
              "      border-right-color: var(--fill-color);\n",
              "    }\n",
              "    80% {\n",
              "      border-color: transparent;\n",
              "      border-right-color: var(--fill-color);\n",
              "      border-bottom-color: var(--fill-color);\n",
              "    }\n",
              "    90% {\n",
              "      border-color: transparent;\n",
              "      border-bottom-color: var(--fill-color);\n",
              "    }\n",
              "  }\n",
              "</style>\n",
              "\n",
              "  <script>\n",
              "    async function quickchart(key) {\n",
              "      const quickchartButtonEl =\n",
              "        document.querySelector('#' + key + ' button');\n",
              "      quickchartButtonEl.disabled = true;  // To prevent multiple clicks.\n",
              "      quickchartButtonEl.classList.add('colab-df-spinner');\n",
              "      try {\n",
              "        const charts = await google.colab.kernel.invokeFunction(\n",
              "            'suggestCharts', [key], {});\n",
              "      } catch (error) {\n",
              "        console.error('Error during call to suggestCharts:', error);\n",
              "      }\n",
              "      quickchartButtonEl.classList.remove('colab-df-spinner');\n",
              "      quickchartButtonEl.classList.add('colab-df-quickchart-complete');\n",
              "    }\n",
              "    (() => {\n",
              "      let quickchartButtonEl =\n",
              "        document.querySelector('#df-182f4c2d-cfdb-4fc2-85fe-2be5873339e0 button');\n",
              "      quickchartButtonEl.style.display =\n",
              "        google.colab.kernel.accessAllowed ? 'block' : 'none';\n",
              "    })();\n",
              "  </script>\n",
              "</div>\n",
              "\n",
              "    </div>\n",
              "  </div>\n"
            ],
            "application/vnd.google.colaboratory.intrinsic+json": {
              "type": "dataframe",
              "variable_name": "data",
              "summary": "{\n  \"name\": \"data\",\n  \"rows\": 28619,\n  \"fields\": [\n    {\n      \"column\": \"is_sarcastic\",\n      \"properties\": {\n        \"dtype\": \"number\",\n        \"std\": 0,\n        \"min\": 0,\n        \"max\": 1,\n        \"num_unique_values\": 2,\n        \"samples\": [\n          0,\n          1\n        ],\n        \"semantic_type\": \"\",\n        \"description\": \"\"\n      }\n    },\n    {\n      \"column\": \"headline\",\n      \"properties\": {\n        \"dtype\": \"string\",\n        \"num_unique_values\": 28503,\n        \"samples\": [\n          \"marco rubio nabs his first 2016 win in minnesota gop presidential caucus\",\n          \"oops: hot mic broadcasts al roker going to the bathroom\"\n        ],\n        \"semantic_type\": \"\",\n        \"description\": \"\"\n      }\n    },\n    {\n      \"column\": \"article_link\",\n      \"properties\": {\n        \"dtype\": \"string\",\n        \"num_unique_values\": 28617,\n        \"samples\": [\n          \"https://www.huffingtonpost.com/entry/teacher-education-school-closures_n_6401316.html\",\n          \"https://www.theonion.com/drone-places-fresh-kill-on-steps-of-white-house-1819592535\"\n        ],\n        \"semantic_type\": \"\",\n        \"description\": \"\"\n      }\n    }\n  ]\n}"
            }
          },
          "metadata": {},
          "execution_count": 107
        }
      ]
    },
    {
      "cell_type": "code",
      "source": [
        "sentences=[]\n",
        "labels=[]\n",
        "urls=[]\n",
        "for index, row in data.iterrows():\n",
        "    sentences.append(row['headline'])\n",
        "    labels.append(row['is_sarcastic'])\n",
        "    urls.append(row['article_link'])\n",
        "\n"
      ],
      "metadata": {
        "id": "pRVp24EIM0lp"
      },
      "execution_count": null,
      "outputs": []
    },
    {
      "cell_type": "code",
      "source": [
        "print(len(sentences))"
      ],
      "metadata": {
        "colab": {
          "base_uri": "https://localhost:8080/"
        },
        "id": "1Gh8SkPvQ2wX",
        "outputId": "f3b548e0-400f-4178-8e13-829132bce018"
      },
      "execution_count": null,
      "outputs": [
        {
          "output_type": "stream",
          "name": "stdout",
          "text": [
            "28619\n"
          ]
        }
      ]
    },
    {
      "cell_type": "code",
      "source": [
        "print(len(labels))\n"
      ],
      "metadata": {
        "colab": {
          "base_uri": "https://localhost:8080/"
        },
        "id": "1Do7zWLQQ_3V",
        "outputId": "452ab5d0-fa96-4833-ab04-b9090d4dbb60"
      },
      "execution_count": null,
      "outputs": [
        {
          "output_type": "stream",
          "name": "stdout",
          "text": [
            "28619\n"
          ]
        }
      ]
    },
    {
      "cell_type": "code",
      "source": [
        "from tensorflow.keras.preprocessing.text import Tokenizer\n",
        "from tensorflow.keras.preprocessing.sequence import pad_sequences\n",
        "\n",
        "tokenizer=Tokenizer(oov_token='<OOV>')\n",
        "tokenizer.fit_on_texts(sentences)\n",
        "word_index= tokenizer.word_index\n",
        "\n",
        "sequences= tokenizer.texts_to_sequences(sentences)\n",
        "padded= pad_sequences(sequences,padding='post')\n",
        "#print(word_index)\n",
        "#print(sequences)\n",
        "#print(padded[0])\n",
        "print(padded.shape)"
      ],
      "metadata": {
        "colab": {
          "base_uri": "https://localhost:8080/"
        },
        "id": "hXMiYjsuPByV",
        "outputId": "f6918fc6-36ab-402f-947c-a5794e50d73b"
      },
      "execution_count": null,
      "outputs": [
        {
          "output_type": "stream",
          "name": "stdout",
          "text": [
            "(28619, 152)\n"
          ]
        }
      ]
    },
    {
      "cell_type": "code",
      "source": [
        "print(len(sentences))"
      ],
      "metadata": {
        "colab": {
          "base_uri": "https://localhost:8080/"
        },
        "id": "QQPQjyNsgmZP",
        "outputId": "a9e7ad8b-66f1-4e0e-9fc2-363c84ac6c43"
      },
      "execution_count": null,
      "outputs": [
        {
          "output_type": "stream",
          "name": "stdout",
          "text": [
            "4\n"
          ]
        }
      ]
    },
    {
      "cell_type": "code",
      "source": [
        "# Define the training size (e.g., 80% of the total dataset)\n",
        "training_size = int(len(sentences) * 0.8)\n",
        "\n",
        "\n",
        "training_sentences= sentences[0:training_size]\n",
        "testing_sentences= sentences[training_size:]\n",
        "training_labels=labels[0:training_size]\n",
        "testing_labels= labels[training_size:]"
      ],
      "metadata": {
        "id": "caMU2RQWQnJM"
      },
      "execution_count": null,
      "outputs": []
    },
    {
      "cell_type": "code",
      "source": [
        "print(len(training_sentences))"
      ],
      "metadata": {
        "colab": {
          "base_uri": "https://localhost:8080/"
        },
        "id": "joaRZtsI4o6F",
        "outputId": "25c1f00d-7426-4f9f-fa60-64d9b3f61d79"
      },
      "execution_count": null,
      "outputs": [
        {
          "output_type": "stream",
          "name": "stdout",
          "text": [
            "22895\n"
          ]
        }
      ]
    },
    {
      "cell_type": "code",
      "source": [
        "print(len(testing_sentences))"
      ],
      "metadata": {
        "colab": {
          "base_uri": "https://localhost:8080/"
        },
        "id": "JZxjTVvu4zqH",
        "outputId": "b31aa1ee-54ba-446b-c433-ee86730b1dea"
      },
      "execution_count": null,
      "outputs": [
        {
          "output_type": "stream",
          "name": "stdout",
          "text": [
            "5724\n"
          ]
        }
      ]
    },
    {
      "cell_type": "code",
      "source": [
        "vocab_size = 10000  # Define the vocabulary size\n",
        "embedding_dim = 16  # Define the embedding dimension\n",
        "max_length = 120  # Define the maximum length of the input sequences\n"
      ],
      "metadata": {
        "id": "IjfdGgMemLKP"
      },
      "execution_count": null,
      "outputs": []
    },
    {
      "cell_type": "code",
      "source": [
        "tokenizer = Tokenizer(num_words=1000, oov_token='<OOV>')\n",
        "tokenizer.fit_on_texts(training_sentences)\n",
        "word_index= tokenizer.word_index\n",
        "\n",
        "training_sequences = tokenizer.texts_to_sequences(training_sentences)\n",
        "training_padded = pad_sequences(training_sequences, maxlen= 1000, padding='post', truncating= 'post')\n",
        "\n",
        "testing_sequences = tokenizer.texts_to_sequences(testing_sentences)\n",
        "testing_padded= pad_sequences(testing_sequences, maxlen= 1000, padding='post', truncating= 'post')\n",
        "# maxlen= max_length, padding=padding_type, truncating= trunc_type\n"
      ],
      "metadata": {
        "id": "xRJPfxQrcqgJ"
      },
      "execution_count": null,
      "outputs": []
    },
    {
      "cell_type": "code",
      "source": [],
      "metadata": {
        "id": "28XHz57wnZTk"
      },
      "execution_count": null,
      "outputs": []
    },
    {
      "cell_type": "code",
      "source": [
        "\n",
        "from tensorflow.keras.models import Sequential\n",
        "from tensorflow.keras.layers import Embedding, GlobalAveragePooling1D, Dense\n",
        "from tensorflow.keras.layers import Activation\n",
        "from tensorflow.keras.activations import sigmoid\n",
        "\n",
        "\n",
        "model=tf.keras.Sequential([\n",
        "    tf.keras.layers.Embedding(vocab_size,embedding_dim),\n",
        "    tf.keras.layers.GlobalAveragePooling1D(),\n",
        "    tf.keras.layers.Dense(24, activation='relu'),\n",
        "    tf.keras.layers.Dense(1,activation='sigmoid')\n",
        "])"
      ],
      "metadata": {
        "id": "O98Rg4Zriayz"
      },
      "execution_count": null,
      "outputs": []
    },
    {
      "cell_type": "code",
      "source": [
        "model.compile(loss='binary_crossentropy',optimizer='adam', metrics=['accuracy'])"
      ],
      "metadata": {
        "id": "7pZNbL5clkr3"
      },
      "execution_count": null,
      "outputs": []
    },
    {
      "cell_type": "code",
      "source": [
        "import numpy as np\n",
        "\n",
        "# Convert the padded arrays to numpy arrays\n",
        "training_padded = np.array(training_padded)\n",
        "testing_padded = np.array(testing_padded)\n",
        "# Convert the labels to numpy arrays\n",
        "training_labels = np.array(training_labels)\n",
        "testing_labels = np.array(testing_labels)   #time 2s, acc 0.98, loss 0.04, val_loss 0.7, val_acc 0.82"
      ],
      "metadata": {
        "id": "ebY4TWGWqR-S"
      },
      "execution_count": null,
      "outputs": []
    },
    {
      "cell_type": "code",
      "source": [
        "print(len(training_labels))"
      ],
      "metadata": {
        "colab": {
          "base_uri": "https://localhost:8080/"
        },
        "id": "J9vTRYK05aRY",
        "outputId": "851732c7-a87c-4874-cf9d-e7bd5a6dc80d"
      },
      "execution_count": null,
      "outputs": [
        {
          "output_type": "stream",
          "name": "stdout",
          "text": [
            "22895\n"
          ]
        }
      ]
    },
    {
      "cell_type": "code",
      "source": [
        "num_epochs=20\n",
        "history= model.fit(training_padded, training_labels, epochs=num_epochs, validation_data=(testing_padded, testing_labels), verbose=2)"
      ],
      "metadata": {
        "colab": {
          "base_uri": "https://localhost:8080/"
        },
        "id": "iQnbo-qEouDu",
        "outputId": "9c868e7d-b844-4393-9a7f-11cb35e75da3"
      },
      "execution_count": null,
      "outputs": [
        {
          "output_type": "stream",
          "name": "stdout",
          "text": [
            "Epoch 1/20\n",
            "716/716 - 9s - 12ms/step - accuracy: 0.5160 - loss: 0.6932 - val_accuracy: 0.5266 - val_loss: 0.6916\n",
            "Epoch 2/20\n",
            "716/716 - 5s - 7ms/step - accuracy: 0.5188 - loss: 0.6925 - val_accuracy: 0.5266 - val_loss: 0.6920\n",
            "Epoch 3/20\n",
            "716/716 - 6s - 8ms/step - accuracy: 0.5170 - loss: 0.6929 - val_accuracy: 0.5266 - val_loss: 0.6916\n",
            "Epoch 4/20\n",
            "716/716 - 7s - 10ms/step - accuracy: 0.5230 - loss: 0.6923 - val_accuracy: 0.5266 - val_loss: 0.6913\n",
            "Epoch 5/20\n",
            "716/716 - 10s - 13ms/step - accuracy: 0.5199 - loss: 0.6925 - val_accuracy: 0.4734 - val_loss: 0.6930\n",
            "Epoch 6/20\n",
            "716/716 - 9s - 12ms/step - accuracy: 0.5173 - loss: 0.6919 - val_accuracy: 0.5356 - val_loss: 0.6915\n",
            "Epoch 7/20\n",
            "716/716 - 6s - 9ms/step - accuracy: 0.5220 - loss: 0.6915 - val_accuracy: 0.5266 - val_loss: 0.6908\n",
            "Epoch 8/20\n",
            "716/716 - 9s - 13ms/step - accuracy: 0.5261 - loss: 0.6915 - val_accuracy: 0.5397 - val_loss: 0.6899\n",
            "Epoch 9/20\n",
            "716/716 - 8s - 11ms/step - accuracy: 0.5292 - loss: 0.6897 - val_accuracy: 0.5907 - val_loss: 0.6872\n",
            "Epoch 10/20\n",
            "716/716 - 8s - 11ms/step - accuracy: 0.5383 - loss: 0.6870 - val_accuracy: 0.5711 - val_loss: 0.6816\n",
            "Epoch 11/20\n",
            "716/716 - 11s - 15ms/step - accuracy: 0.5547 - loss: 0.6840 - val_accuracy: 0.6785 - val_loss: 0.6768\n",
            "Epoch 12/20\n",
            "716/716 - 11s - 16ms/step - accuracy: 0.5717 - loss: 0.6759 - val_accuracy: 0.6181 - val_loss: 0.6619\n",
            "Epoch 13/20\n",
            "716/716 - 9s - 12ms/step - accuracy: 0.6074 - loss: 0.6596 - val_accuracy: 0.5454 - val_loss: 0.6649\n",
            "Epoch 14/20\n",
            "716/716 - 7s - 10ms/step - accuracy: 0.6414 - loss: 0.6311 - val_accuracy: 0.6761 - val_loss: 0.5971\n",
            "Epoch 15/20\n",
            "716/716 - 9s - 13ms/step - accuracy: 0.6486 - loss: 0.6217 - val_accuracy: 0.6223 - val_loss: 0.6112\n",
            "Epoch 16/20\n",
            "716/716 - 9s - 13ms/step - accuracy: 0.6787 - loss: 0.5967 - val_accuracy: 0.6553 - val_loss: 0.5823\n",
            "Epoch 17/20\n",
            "716/716 - 11s - 15ms/step - accuracy: 0.6908 - loss: 0.5804 - val_accuracy: 0.7289 - val_loss: 0.5455\n",
            "Epoch 18/20\n",
            "716/716 - 10s - 15ms/step - accuracy: 0.6964 - loss: 0.5721 - val_accuracy: 0.6371 - val_loss: 0.6416\n",
            "Epoch 19/20\n",
            "716/716 - 9s - 13ms/step - accuracy: 0.6998 - loss: 0.5624 - val_accuracy: 0.7469 - val_loss: 0.5267\n",
            "Epoch 20/20\n",
            "716/716 - 10s - 14ms/step - accuracy: 0.7095 - loss: 0.5528 - val_accuracy: 0.6889 - val_loss: 0.5480\n"
          ]
        }
      ]
    },
    {
      "cell_type": "markdown",
      "source": [
        "# test this model on other sentences"
      ],
      "metadata": {
        "id": "9K8VzzN7q5a5"
      }
    },
    {
      "cell_type": "code",
      "source": [
        "sentences=[\n",
        "    \"uber ceo travis kalanick stepping down from trump economic advisory council\",\n",
        "    \"area boy enters jumping-and-touching-tops-of-doorways phase\",\n",
        "    \"area man does most of his traveling by gurney\",\n",
        "    \"leave no person with disabilities behind\",\n",
        "    \"lin-manuel miranda would like to remind you to put your phone away\"\n",
        "    \"60 journalists killed in 2014 as targeting of international press rises\",\n",
        "    \"guard in video game under strict orders to repeatedly pace same stretch of hallway\"\n",
        "\n",
        "]"
      ],
      "metadata": {
        "id": "enoMuQQgp48J"
      },
      "execution_count": null,
      "outputs": []
    },
    {
      "cell_type": "code",
      "source": [
        "sequences= tokenizer.texts_to_sequences(sentences)\n",
        "padded= pad_sequences(sequences, padding='post', truncating='post', maxlen=10)\n",
        "print(model.predict(padded))"
      ],
      "metadata": {
        "colab": {
          "base_uri": "https://localhost:8080/"
        },
        "id": "7AdjOD4QsA1k",
        "outputId": "7b0238cb-2292-40e5-b70c-76f16978402f"
      },
      "execution_count": null,
      "outputs": [
        {
          "output_type": "stream",
          "name": "stdout",
          "text": [
            "\u001b[1m1/1\u001b[0m \u001b[32m━━━━━━━━━━━━━━━━━━━━\u001b[0m\u001b[37m\u001b[0m \u001b[1m0s\u001b[0m 106ms/step\n",
            "[[1.]\n",
            " [1.]\n",
            " [1.]\n",
            " [1.]\n",
            " [1.]\n",
            " [1.]]\n"
          ]
        }
      ]
    },
    {
      "cell_type": "markdown",
      "source": [
        "so, close to 1 is_sarcastic but close to is not sarcastic"
      ],
      "metadata": {
        "id": "BCbjDcwbssFG"
      }
    }
  ],
  "metadata": {
    "colab": {
      "provenance": []
    },
    "kernelspec": {
      "display_name": "Python 3",
      "name": "python3"
    },
    "language_info": {
      "name": "python"
    }
  },
  "nbformat": 4,
  "nbformat_minor": 0
}