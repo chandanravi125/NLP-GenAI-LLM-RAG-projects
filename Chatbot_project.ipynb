{
  "nbformat": 4,
  "nbformat_minor": 0,
  "metadata": {
    "colab": {
      "provenance": []
    },
    "kernelspec": {
      "name": "python3",
      "display_name": "Python 3"
    },
    "language_info": {
      "name": "python"
    }
  },
  "cells": [
    {
      "cell_type": "code",
      "source": [
        "import pandas as pd\n",
        "import numpy as np\n",
        "import matplotlib.pyplot as plt\n",
        "import seaborn as sns\n",
        "import warnings\n",
        "warnings.filterwarnings('ignore')"
      ],
      "metadata": {
        "id": "O6bd1CytHc6x"
      },
      "execution_count": null,
      "outputs": []
    },
    {
      "cell_type": "code",
      "source": [
        "\n",
        "import tensorflow as tf\n",
        "\n",
        "from tensorflow.keras.preprocessing.text import Tokenizer\n",
        "from tensorflow.keras.preprocessing.sequence import pad_sequences\n",
        "from tensorflow.keras.utils import to_categorical\n",
        "\n",
        "from tensorflow.keras.models import Sequential\n",
        "from tensorflow.keras.layers import Embedding, Dense, Dropout\n"
      ],
      "metadata": {
        "id": "eKnQjNaZjPNw"
      },
      "execution_count": null,
      "outputs": []
    },
    {
      "cell_type": "code",
      "source": [
        "data=pd.read_json('/content/drive/MyDrive/Dataset/intents_ch1.json')"
      ],
      "metadata": {
        "id": "te_scSUhHdHc"
      },
      "execution_count": null,
      "outputs": []
    },
    {
      "cell_type": "code",
      "source": [
        "data.head(110)"
      ],
      "metadata": {
        "id": "fR1N5WNlHdLC",
        "colab": {
          "base_uri": "https://localhost:8080/",
          "height": 645
        },
        "outputId": "32394065-5945-4ecb-a4de-90dc3d43b7c4"
      },
      "execution_count": null,
      "outputs": [
        {
          "output_type": "execute_result",
          "data": {
            "text/plain": [
              "                                              intents\n",
              "0   {'tag': 'greeting', 'patterns': ['Hi', 'hi', '...\n",
              "1   {'tag': 'options', 'patterns': ['How can you h...\n",
              "2   {'tag': 'primary_attention', 'patterns': ['My ...\n",
              "3   {'tag': 'primary_treatment', 'patterns': ['My ...\n",
              "4   {'tag': 'blood_pressure_medication', 'patterns...\n",
              "5   {'tag': 'search_blood_pressure_by_patient_id',...\n",
              "6   {'tag': 'pharmacy_search', 'patterns': ['Is th...\n",
              "7   {'tag': 'search_pharmacy_by_name', 'patterns':...\n",
              "8   {'tag': 'noanswer', 'patterns': ['sorry', ' ']...\n",
              "9   {'tag': 'pharmacy_by_name', 'patterns': ['Did ...\n",
              "10  {'tag': 'hospital_search', 'patterns': ['Looki...\n",
              "11  {'tag': 'search_hospital_by_name', 'patterns':...\n",
              "12  {'tag': 'search_hospital_by_type', 'patterns':...\n",
              "13  {'tag': 'goodbye', 'patterns': ['Bye', 'See yo...\n",
              "14  {'tag': 'thanks', 'patterns': ['Thanks', 'Than..."
            ],
            "text/html": [
              "\n",
              "  <div id=\"df-ce905593-f83c-4f3d-ba6f-36ce128e6766\" class=\"colab-df-container\">\n",
              "    <div>\n",
              "<style scoped>\n",
              "    .dataframe tbody tr th:only-of-type {\n",
              "        vertical-align: middle;\n",
              "    }\n",
              "\n",
              "    .dataframe tbody tr th {\n",
              "        vertical-align: top;\n",
              "    }\n",
              "\n",
              "    .dataframe thead th {\n",
              "        text-align: right;\n",
              "    }\n",
              "</style>\n",
              "<table border=\"1\" class=\"dataframe\">\n",
              "  <thead>\n",
              "    <tr style=\"text-align: right;\">\n",
              "      <th></th>\n",
              "      <th>intents</th>\n",
              "    </tr>\n",
              "  </thead>\n",
              "  <tbody>\n",
              "    <tr>\n",
              "      <th>0</th>\n",
              "      <td>{'tag': 'greeting', 'patterns': ['Hi', 'hi', '...</td>\n",
              "    </tr>\n",
              "    <tr>\n",
              "      <th>1</th>\n",
              "      <td>{'tag': 'options', 'patterns': ['How can you h...</td>\n",
              "    </tr>\n",
              "    <tr>\n",
              "      <th>2</th>\n",
              "      <td>{'tag': 'primary_attention', 'patterns': ['My ...</td>\n",
              "    </tr>\n",
              "    <tr>\n",
              "      <th>3</th>\n",
              "      <td>{'tag': 'primary_treatment', 'patterns': ['My ...</td>\n",
              "    </tr>\n",
              "    <tr>\n",
              "      <th>4</th>\n",
              "      <td>{'tag': 'blood_pressure_medication', 'patterns...</td>\n",
              "    </tr>\n",
              "    <tr>\n",
              "      <th>5</th>\n",
              "      <td>{'tag': 'search_blood_pressure_by_patient_id',...</td>\n",
              "    </tr>\n",
              "    <tr>\n",
              "      <th>6</th>\n",
              "      <td>{'tag': 'pharmacy_search', 'patterns': ['Is th...</td>\n",
              "    </tr>\n",
              "    <tr>\n",
              "      <th>7</th>\n",
              "      <td>{'tag': 'search_pharmacy_by_name', 'patterns':...</td>\n",
              "    </tr>\n",
              "    <tr>\n",
              "      <th>8</th>\n",
              "      <td>{'tag': 'noanswer', 'patterns': ['sorry', ' ']...</td>\n",
              "    </tr>\n",
              "    <tr>\n",
              "      <th>9</th>\n",
              "      <td>{'tag': 'pharmacy_by_name', 'patterns': ['Did ...</td>\n",
              "    </tr>\n",
              "    <tr>\n",
              "      <th>10</th>\n",
              "      <td>{'tag': 'hospital_search', 'patterns': ['Looki...</td>\n",
              "    </tr>\n",
              "    <tr>\n",
              "      <th>11</th>\n",
              "      <td>{'tag': 'search_hospital_by_name', 'patterns':...</td>\n",
              "    </tr>\n",
              "    <tr>\n",
              "      <th>12</th>\n",
              "      <td>{'tag': 'search_hospital_by_type', 'patterns':...</td>\n",
              "    </tr>\n",
              "    <tr>\n",
              "      <th>13</th>\n",
              "      <td>{'tag': 'goodbye', 'patterns': ['Bye', 'See yo...</td>\n",
              "    </tr>\n",
              "    <tr>\n",
              "      <th>14</th>\n",
              "      <td>{'tag': 'thanks', 'patterns': ['Thanks', 'Than...</td>\n",
              "    </tr>\n",
              "  </tbody>\n",
              "</table>\n",
              "</div>\n",
              "    <div class=\"colab-df-buttons\">\n",
              "\n",
              "  <div class=\"colab-df-container\">\n",
              "    <button class=\"colab-df-convert\" onclick=\"convertToInteractive('df-ce905593-f83c-4f3d-ba6f-36ce128e6766')\"\n",
              "            title=\"Convert this dataframe to an interactive table.\"\n",
              "            style=\"display:none;\">\n",
              "\n",
              "  <svg xmlns=\"http://www.w3.org/2000/svg\" height=\"24px\" viewBox=\"0 -960 960 960\">\n",
              "    <path d=\"M120-120v-720h720v720H120Zm60-500h600v-160H180v160Zm220 220h160v-160H400v160Zm0 220h160v-160H400v160ZM180-400h160v-160H180v160Zm440 0h160v-160H620v160ZM180-180h160v-160H180v160Zm440 0h160v-160H620v160Z\"/>\n",
              "  </svg>\n",
              "    </button>\n",
              "\n",
              "  <style>\n",
              "    .colab-df-container {\n",
              "      display:flex;\n",
              "      gap: 12px;\n",
              "    }\n",
              "\n",
              "    .colab-df-convert {\n",
              "      background-color: #E8F0FE;\n",
              "      border: none;\n",
              "      border-radius: 50%;\n",
              "      cursor: pointer;\n",
              "      display: none;\n",
              "      fill: #1967D2;\n",
              "      height: 32px;\n",
              "      padding: 0 0 0 0;\n",
              "      width: 32px;\n",
              "    }\n",
              "\n",
              "    .colab-df-convert:hover {\n",
              "      background-color: #E2EBFA;\n",
              "      box-shadow: 0px 1px 2px rgba(60, 64, 67, 0.3), 0px 1px 3px 1px rgba(60, 64, 67, 0.15);\n",
              "      fill: #174EA6;\n",
              "    }\n",
              "\n",
              "    .colab-df-buttons div {\n",
              "      margin-bottom: 4px;\n",
              "    }\n",
              "\n",
              "    [theme=dark] .colab-df-convert {\n",
              "      background-color: #3B4455;\n",
              "      fill: #D2E3FC;\n",
              "    }\n",
              "\n",
              "    [theme=dark] .colab-df-convert:hover {\n",
              "      background-color: #434B5C;\n",
              "      box-shadow: 0px 1px 3px 1px rgba(0, 0, 0, 0.15);\n",
              "      filter: drop-shadow(0px 1px 2px rgba(0, 0, 0, 0.3));\n",
              "      fill: #FFFFFF;\n",
              "    }\n",
              "  </style>\n",
              "\n",
              "    <script>\n",
              "      const buttonEl =\n",
              "        document.querySelector('#df-ce905593-f83c-4f3d-ba6f-36ce128e6766 button.colab-df-convert');\n",
              "      buttonEl.style.display =\n",
              "        google.colab.kernel.accessAllowed ? 'block' : 'none';\n",
              "\n",
              "      async function convertToInteractive(key) {\n",
              "        const element = document.querySelector('#df-ce905593-f83c-4f3d-ba6f-36ce128e6766');\n",
              "        const dataTable =\n",
              "          await google.colab.kernel.invokeFunction('convertToInteractive',\n",
              "                                                    [key], {});\n",
              "        if (!dataTable) return;\n",
              "\n",
              "        const docLinkHtml = 'Like what you see? Visit the ' +\n",
              "          '<a target=\"_blank\" href=https://colab.research.google.com/notebooks/data_table.ipynb>data table notebook</a>'\n",
              "          + ' to learn more about interactive tables.';\n",
              "        element.innerHTML = '';\n",
              "        dataTable['output_type'] = 'display_data';\n",
              "        await google.colab.output.renderOutput(dataTable, element);\n",
              "        const docLink = document.createElement('div');\n",
              "        docLink.innerHTML = docLinkHtml;\n",
              "        element.appendChild(docLink);\n",
              "      }\n",
              "    </script>\n",
              "  </div>\n",
              "\n",
              "\n",
              "<div id=\"df-cf635a11-984f-41fa-8c46-23aa43a81045\">\n",
              "  <button class=\"colab-df-quickchart\" onclick=\"quickchart('df-cf635a11-984f-41fa-8c46-23aa43a81045')\"\n",
              "            title=\"Suggest charts\"\n",
              "            style=\"display:none;\">\n",
              "\n",
              "<svg xmlns=\"http://www.w3.org/2000/svg\" height=\"24px\"viewBox=\"0 0 24 24\"\n",
              "     width=\"24px\">\n",
              "    <g>\n",
              "        <path d=\"M19 3H5c-1.1 0-2 .9-2 2v14c0 1.1.9 2 2 2h14c1.1 0 2-.9 2-2V5c0-1.1-.9-2-2-2zM9 17H7v-7h2v7zm4 0h-2V7h2v10zm4 0h-2v-4h2v4z\"/>\n",
              "    </g>\n",
              "</svg>\n",
              "  </button>\n",
              "\n",
              "<style>\n",
              "  .colab-df-quickchart {\n",
              "      --bg-color: #E8F0FE;\n",
              "      --fill-color: #1967D2;\n",
              "      --hover-bg-color: #E2EBFA;\n",
              "      --hover-fill-color: #174EA6;\n",
              "      --disabled-fill-color: #AAA;\n",
              "      --disabled-bg-color: #DDD;\n",
              "  }\n",
              "\n",
              "  [theme=dark] .colab-df-quickchart {\n",
              "      --bg-color: #3B4455;\n",
              "      --fill-color: #D2E3FC;\n",
              "      --hover-bg-color: #434B5C;\n",
              "      --hover-fill-color: #FFFFFF;\n",
              "      --disabled-bg-color: #3B4455;\n",
              "      --disabled-fill-color: #666;\n",
              "  }\n",
              "\n",
              "  .colab-df-quickchart {\n",
              "    background-color: var(--bg-color);\n",
              "    border: none;\n",
              "    border-radius: 50%;\n",
              "    cursor: pointer;\n",
              "    display: none;\n",
              "    fill: var(--fill-color);\n",
              "    height: 32px;\n",
              "    padding: 0;\n",
              "    width: 32px;\n",
              "  }\n",
              "\n",
              "  .colab-df-quickchart:hover {\n",
              "    background-color: var(--hover-bg-color);\n",
              "    box-shadow: 0 1px 2px rgba(60, 64, 67, 0.3), 0 1px 3px 1px rgba(60, 64, 67, 0.15);\n",
              "    fill: var(--button-hover-fill-color);\n",
              "  }\n",
              "\n",
              "  .colab-df-quickchart-complete:disabled,\n",
              "  .colab-df-quickchart-complete:disabled:hover {\n",
              "    background-color: var(--disabled-bg-color);\n",
              "    fill: var(--disabled-fill-color);\n",
              "    box-shadow: none;\n",
              "  }\n",
              "\n",
              "  .colab-df-spinner {\n",
              "    border: 2px solid var(--fill-color);\n",
              "    border-color: transparent;\n",
              "    border-bottom-color: var(--fill-color);\n",
              "    animation:\n",
              "      spin 1s steps(1) infinite;\n",
              "  }\n",
              "\n",
              "  @keyframes spin {\n",
              "    0% {\n",
              "      border-color: transparent;\n",
              "      border-bottom-color: var(--fill-color);\n",
              "      border-left-color: var(--fill-color);\n",
              "    }\n",
              "    20% {\n",
              "      border-color: transparent;\n",
              "      border-left-color: var(--fill-color);\n",
              "      border-top-color: var(--fill-color);\n",
              "    }\n",
              "    30% {\n",
              "      border-color: transparent;\n",
              "      border-left-color: var(--fill-color);\n",
              "      border-top-color: var(--fill-color);\n",
              "      border-right-color: var(--fill-color);\n",
              "    }\n",
              "    40% {\n",
              "      border-color: transparent;\n",
              "      border-right-color: var(--fill-color);\n",
              "      border-top-color: var(--fill-color);\n",
              "    }\n",
              "    60% {\n",
              "      border-color: transparent;\n",
              "      border-right-color: var(--fill-color);\n",
              "    }\n",
              "    80% {\n",
              "      border-color: transparent;\n",
              "      border-right-color: var(--fill-color);\n",
              "      border-bottom-color: var(--fill-color);\n",
              "    }\n",
              "    90% {\n",
              "      border-color: transparent;\n",
              "      border-bottom-color: var(--fill-color);\n",
              "    }\n",
              "  }\n",
              "</style>\n",
              "\n",
              "  <script>\n",
              "    async function quickchart(key) {\n",
              "      const quickchartButtonEl =\n",
              "        document.querySelector('#' + key + ' button');\n",
              "      quickchartButtonEl.disabled = true;  // To prevent multiple clicks.\n",
              "      quickchartButtonEl.classList.add('colab-df-spinner');\n",
              "      try {\n",
              "        const charts = await google.colab.kernel.invokeFunction(\n",
              "            'suggestCharts', [key], {});\n",
              "      } catch (error) {\n",
              "        console.error('Error during call to suggestCharts:', error);\n",
              "      }\n",
              "      quickchartButtonEl.classList.remove('colab-df-spinner');\n",
              "      quickchartButtonEl.classList.add('colab-df-quickchart-complete');\n",
              "    }\n",
              "    (() => {\n",
              "      let quickchartButtonEl =\n",
              "        document.querySelector('#df-cf635a11-984f-41fa-8c46-23aa43a81045 button');\n",
              "      quickchartButtonEl.style.display =\n",
              "        google.colab.kernel.accessAllowed ? 'block' : 'none';\n",
              "    })();\n",
              "  </script>\n",
              "</div>\n",
              "\n",
              "    </div>\n",
              "  </div>\n"
            ],
            "application/vnd.google.colaboratory.intrinsic+json": {
              "type": "dataframe",
              "variable_name": "data",
              "summary": "{\n  \"name\": \"data\",\n  \"rows\": 15,\n  \"fields\": [\n    {\n      \"column\": \"intents\",\n      \"properties\": {\n        \"dtype\": \"object\",\n        \"semantic_type\": \"\",\n        \"description\": \"\"\n      }\n    }\n  ]\n}"
            }
          },
          "metadata": {},
          "execution_count": 3
        }
      ]
    },
    {
      "cell_type": "markdown",
      "source": [
        "# NLP Preprocessing"
      ],
      "metadata": {
        "id": "8AW3982rWUCg"
      }
    },
    {
      "cell_type": "code",
      "source": [
        "# Convert the 'intents' column to a list\n",
        "intents = data['intents'].tolist()\n",
        "intents"
      ],
      "metadata": {
        "id": "0ZvLrAGfWOd9",
        "colab": {
          "base_uri": "https://localhost:8080/"
        },
        "outputId": "5a58b5a0-80b9-42fe-cad8-336945e33a53"
      },
      "execution_count": null,
      "outputs": [
        {
          "output_type": "execute_result",
          "data": {
            "text/plain": [
              "[{'tag': 'greeting',\n",
              "  'patterns': ['Hi',\n",
              "   'hi',\n",
              "   'How are you?',\n",
              "   'Is anyone there?',\n",
              "   'Hey',\n",
              "   'Hola',\n",
              "   'Hello',\n",
              "   'I am good',\n",
              "   'Can you help me?'],\n",
              "  'responses': ['Hello',\n",
              "   'Hi',\n",
              "   'I am good, thank you',\n",
              "   'Hi, How you are doing?',\n",
              "   'Hey! I am here to help you!',\n",
              "   'Hi, how can I help you today?'],\n",
              "  'context': ['options']},\n",
              " {'tag': 'options',\n",
              "  'patterns': ['How can you help me?',\n",
              "   'What kind of help you provide?',\n",
              "   'What help you provide?',\n",
              "   'How you can be helpful?',\n",
              "   'What support is offered'],\n",
              "  'responses': ['I can guide you through Hospitals and Pharmacies',\n",
              "   'Offering support for Hospitals and Pharmacies'],\n",
              "  'context': ['primary_attention']},\n",
              " {'tag': 'primary_attention',\n",
              "  'patterns': ['My father not well',\n",
              "   'My father needs care on emergency',\n",
              "   'My father need emergency treatment'],\n",
              "  'responses': ['what is his symptoms',\n",
              "   'What happended to him',\n",
              "   'Could you please share detail condition',\n",
              "   'How is his health?'],\n",
              "  'context': ['primary_treatment']},\n",
              " {'tag': 'primary_treatment',\n",
              "  'patterns': [\"My father's blood presure got increased\",\n",
              "   'Can you help me on first aid for high blood presure?',\n",
              "   'Could you guide me on first aid',\n",
              "   'What I can do on high blood presure scenario',\n",
              "   'Which drugs can we take when presure is very high?',\n",
              "   'What is the medication on high blood presure'],\n",
              "  'responses': ['Navigating to Blood Pressure module'],\n",
              "  'context': ['blood_pressure_medication']},\n",
              " {'tag': 'blood_pressure_medication',\n",
              "  'patterns': ['Did you get any result on medication',\n",
              "   'what is the result on medication'],\n",
              "  'responses': ['Please provide Patient age', 'What is the age of patient?'],\n",
              "  'context': ['search_blood_pressure_by_patient_id']},\n",
              " {'tag': 'search_blood_pressure_by_patient_id',\n",
              "  'patterns': ['His age 7o years and above',\n",
              "   'He is too old to walk',\n",
              "   'He is very weak over past few weeks',\n",
              "   'He is 75 years old'],\n",
              "  'responses': [\"Patient's need to be transfer to hospital, immediately\",\n",
              "   'Patient need immediate medical attention'],\n",
              "  'context': ['']},\n",
              " {'tag': 'pharmacy_search',\n",
              "  'patterns': ['Is there any pharmacy nearby?',\n",
              "   'Find me a pharmacy',\n",
              "   'Find pharmacy',\n",
              "   'List of pharmacies nearby',\n",
              "   'Locate pharmacy',\n",
              "   'Searching for a pharmacy'],\n",
              "  'responses': ['Please provide pharmacy name'],\n",
              "  'context': ['search_pharmacy_by_name']},\n",
              " {'tag': 'search_pharmacy_by_name',\n",
              "  'patterns': [],\n",
              "  'responses': ['Loading pharmacy details'],\n",
              "  'context': ['']},\n",
              " {'tag': 'noanswer',\n",
              "  'patterns': ['sorry', ' '],\n",
              "  'responses': [\"Sorry, can't understand you\",\n",
              "   'Please give me more info',\n",
              "   'Not sure I understand'],\n",
              "  'context': ['']},\n",
              " {'tag': 'pharmacy_by_name',\n",
              "  'patterns': ['Did you get any details', 'Any luck on Pharmacy searching?'],\n",
              "  'responses': ['Muthu Pharmacy - Guindy',\n",
              "   'Big Shop Pharmacy - Guindy',\n",
              "   'Sri Amman Medicals - Guindy',\n",
              "   'Apollo Pharmacy - T-nagar'],\n",
              "  'context': ['']},\n",
              " {'tag': 'hospital_search',\n",
              "  'patterns': ['Looking for hospitals nearby',\n",
              "   'Searching for nearby hospitals',\n",
              "   'I want to search hospital',\n",
              "   'Hospital lookup for patient',\n",
              "   'Any hospital nearby'],\n",
              "  'responses': ['Please provide hospital name',\n",
              "   'Could you please share hospital name?',\n",
              "   'Please share the name of the hospital'],\n",
              "  'context': ['search_hospital_by_name']},\n",
              " {'tag': 'search_hospital_by_name',\n",
              "  'patterns': ['Apollo hospital', 'Sagar hospital', 'Tata memorial'],\n",
              "  'responses': ['Its located at Greams Road, Chennai-600006',\n",
              "   'Its located in Chennai, PIN - 600006',\n",
              "   'Its located in Guindy, PIN-600015'],\n",
              "  'context': ['search_hospital_by_type']},\n",
              " {'tag': 'search_hospital_by_type',\n",
              "  'patterns': ['is it a big hospital?',\n",
              "   'how big this hospital is?',\n",
              "   'What is the capacity of this hospital?'],\n",
              "  'responses': ['1000 bedded hospital',\n",
              "   'Its a specility hospital with 1000 beds'],\n",
              "  'context': ['goodbye']},\n",
              " {'tag': 'goodbye',\n",
              "  'patterns': ['Bye',\n",
              "   'See you later',\n",
              "   'Goodbye',\n",
              "   'Nice chatting to you, bye',\n",
              "   'Till next time'],\n",
              "  'responses': ['See you!',\n",
              "   'Have a nice day',\n",
              "   'Bye! Come back again soon.',\n",
              "   'see you soon!',\n",
              "   'Good day!'],\n",
              "  'context': ['']},\n",
              " {'tag': 'thanks',\n",
              "  'patterns': ['Thanks',\n",
              "   'Thank you',\n",
              "   \"That's helpful\",\n",
              "   'Awesome, thanks',\n",
              "   'Thanks for helping me'],\n",
              "  'responses': ['Happy to help!',\n",
              "   'Any time!',\n",
              "   'My pleasure',\n",
              "   'Same to you, have a good day!'],\n",
              "  'context': ['']}]"
            ]
          },
          "metadata": {},
          "execution_count": 13
        }
      ]
    },
    {
      "cell_type": "code",
      "source": [
        "tokenizer = Tokenizer(num_words=100)\n",
        "patterns = [pattern for intent in intents for pattern in intent['patterns']]\n",
        "tokenizer.fit_on_texts(patterns)\n",
        "\n"
      ],
      "metadata": {
        "id": "OMli6A0fjhGD"
      },
      "execution_count": null,
      "outputs": []
    },
    {
      "cell_type": "code",
      "source": [
        "word_index = tokenizer.word_index\n",
        "print(len(word_index))\n",
        "print(word_index)"
      ],
      "metadata": {
        "colab": {
          "base_uri": "https://localhost:8080/"
        },
        "id": "ZB0I9AGKjv5D",
        "outputId": "c6bd51b2-9740-4fc8-dd32-e1cae3de619b"
      },
      "execution_count": null,
      "outputs": [
        {
          "output_type": "stream",
          "name": "stdout",
          "text": [
            "116\n",
            "{'you': 1, 'is': 2, 'on': 3, 'hospital': 4, 'what': 5, 'can': 6, 'me': 7, 'for': 8, 'pharmacy': 9, 'help': 10, 'presure': 11, 'any': 12, 'nearby': 13, 'how': 14, 'my': 15, 'blood': 16, 'high': 17, 'i': 18, 'of': 19, 'father': 20, 'the': 21, 'medication': 22, 'he': 23, 'to': 24, 'a': 25, 'searching': 26, 'thanks': 27, 'hi': 28, 'there': 29, 'provide': 30, 'helpful': 31, 'emergency': 32, 'first': 33, 'aid': 34, 'very': 35, 'did': 36, 'get': 37, 'result': 38, 'years': 39, 'old': 40, 'find': 41, 'hospitals': 42, 'big': 43, 'this': 44, 'bye': 45, 'are': 46, 'anyone': 47, 'hey': 48, 'hola': 49, 'hello': 50, 'am': 51, 'good': 52, 'kind': 53, 'be': 54, 'support': 55, 'offered': 56, 'not': 57, 'well': 58, 'needs': 59, 'care': 60, 'need': 61, 'treatment': 62, \"father's\": 63, 'got': 64, 'increased': 65, 'could': 66, 'guide': 67, 'do': 68, 'scenario': 69, 'which': 70, 'drugs': 71, 'we': 72, 'take': 73, 'when': 74, 'his': 75, 'age': 76, '7o': 77, 'and': 78, 'above': 79, 'too': 80, 'walk': 81, 'weak': 82, 'over': 83, 'past': 84, 'few': 85, 'weeks': 86, '75': 87, 'list': 88, 'pharmacies': 89, 'locate': 90, 'sorry': 91, 'details': 92, 'luck': 93, 'looking': 94, 'want': 95, 'search': 96, 'lookup': 97, 'patient': 98, 'apollo': 99, 'sagar': 100, 'tata': 101, 'memorial': 102, 'it': 103, 'capacity': 104, 'see': 105, 'later': 106, 'goodbye': 107, 'nice': 108, 'chatting': 109, 'till': 110, 'next': 111, 'time': 112, 'thank': 113, \"that's\": 114, 'awesome': 115, 'helping': 116}\n"
          ]
        }
      ]
    },
    {
      "cell_type": "code",
      "source": [
        "#Create a tokenizer to convert text into numerical representations\n",
        "tokenizer = Tokenizer()\n",
        "for intent in intents:\n",
        "    for pattern in intent['patterns']:\n",
        "        tokenizer.fit_on_texts([pattern])\n"
      ],
      "metadata": {
        "colab": {
          "base_uri": "https://localhost:8080/",
          "height": 193
        },
        "id": "eaxONrjsjD5q",
        "outputId": "585a5854-1e12-4412-936c-c25cc223ab03"
      },
      "execution_count": null,
      "outputs": [
        {
          "output_type": "error",
          "ename": "TypeError",
          "evalue": "string indices must be integers",
          "traceback": [
            "\u001b[0;31m---------------------------------------------------------------------------\u001b[0m",
            "\u001b[0;31mTypeError\u001b[0m                                 Traceback (most recent call last)",
            "\u001b[0;32m<ipython-input-7-098015637317>\u001b[0m in \u001b[0;36m<cell line: 3>\u001b[0;34m()\u001b[0m\n\u001b[1;32m      2\u001b[0m \u001b[0mtokenizer\u001b[0m \u001b[0;34m=\u001b[0m \u001b[0mTokenizer\u001b[0m\u001b[0;34m(\u001b[0m\u001b[0;34m)\u001b[0m\u001b[0;34m\u001b[0m\u001b[0;34m\u001b[0m\u001b[0m\n\u001b[1;32m      3\u001b[0m \u001b[0;32mfor\u001b[0m \u001b[0mintent\u001b[0m \u001b[0;32min\u001b[0m \u001b[0mintents\u001b[0m\u001b[0;34m:\u001b[0m\u001b[0;34m\u001b[0m\u001b[0;34m\u001b[0m\u001b[0m\n\u001b[0;32m----> 4\u001b[0;31m     \u001b[0;32mfor\u001b[0m \u001b[0mpattern\u001b[0m \u001b[0;32min\u001b[0m \u001b[0mintent\u001b[0m\u001b[0;34m[\u001b[0m\u001b[0;34m'patterns'\u001b[0m\u001b[0;34m]\u001b[0m\u001b[0;34m:\u001b[0m\u001b[0;34m\u001b[0m\u001b[0;34m\u001b[0m\u001b[0m\n\u001b[0m\u001b[1;32m      5\u001b[0m         \u001b[0mtokenizer\u001b[0m\u001b[0;34m.\u001b[0m\u001b[0mfit_on_texts\u001b[0m\u001b[0;34m(\u001b[0m\u001b[0;34m[\u001b[0m\u001b[0mpattern\u001b[0m\u001b[0;34m]\u001b[0m\u001b[0;34m)\u001b[0m\u001b[0;34m\u001b[0m\u001b[0;34m\u001b[0m\u001b[0m\n",
            "\u001b[0;31mTypeError\u001b[0m: string indices must be integers"
          ]
        }
      ]
    },
    {
      "cell_type": "code",
      "source": [
        "tokenizer = Tokenizer(num_words=100)\n",
        "patterns = [pattern for intent in intents for pattern in intent['patterns']]\n",
        "tokenizer.fit_on_texts(patterns)\n"
      ],
      "metadata": {
        "id": "nGEaHy6ijKkt"
      },
      "execution_count": null,
      "outputs": []
    },
    {
      "cell_type": "code",
      "source": [
        "word_index = tokenizer.word_index\n",
        "print(len(word_index))\n",
        "print(word_index)"
      ],
      "metadata": {
        "colab": {
          "base_uri": "https://localhost:8080/"
        },
        "id": "jIC9CIWklaFa",
        "outputId": "52c19ebb-52c2-49f8-fa6d-9849bf998281"
      },
      "execution_count": null,
      "outputs": [
        {
          "output_type": "stream",
          "name": "stdout",
          "text": [
            "116\n",
            "{'you': 1, 'is': 2, 'on': 3, 'hospital': 4, 'what': 5, 'can': 6, 'me': 7, 'for': 8, 'pharmacy': 9, 'help': 10, 'presure': 11, 'any': 12, 'nearby': 13, 'how': 14, 'my': 15, 'blood': 16, 'high': 17, 'i': 18, 'of': 19, 'father': 20, 'the': 21, 'medication': 22, 'he': 23, 'to': 24, 'a': 25, 'searching': 26, 'thanks': 27, 'hi': 28, 'there': 29, 'provide': 30, 'helpful': 31, 'emergency': 32, 'first': 33, 'aid': 34, 'very': 35, 'did': 36, 'get': 37, 'result': 38, 'years': 39, 'old': 40, 'find': 41, 'hospitals': 42, 'big': 43, 'this': 44, 'bye': 45, 'are': 46, 'anyone': 47, 'hey': 48, 'hola': 49, 'hello': 50, 'am': 51, 'good': 52, 'kind': 53, 'be': 54, 'support': 55, 'offered': 56, 'not': 57, 'well': 58, 'needs': 59, 'care': 60, 'need': 61, 'treatment': 62, \"father's\": 63, 'got': 64, 'increased': 65, 'could': 66, 'guide': 67, 'do': 68, 'scenario': 69, 'which': 70, 'drugs': 71, 'we': 72, 'take': 73, 'when': 74, 'his': 75, 'age': 76, '7o': 77, 'and': 78, 'above': 79, 'too': 80, 'walk': 81, 'weak': 82, 'over': 83, 'past': 84, 'few': 85, 'weeks': 86, '75': 87, 'list': 88, 'pharmacies': 89, 'locate': 90, 'sorry': 91, 'details': 92, 'luck': 93, 'looking': 94, 'want': 95, 'search': 96, 'lookup': 97, 'patient': 98, 'apollo': 99, 'sagar': 100, 'tata': 101, 'memorial': 102, 'it': 103, 'capacity': 104, 'see': 105, 'later': 106, 'goodbye': 107, 'nice': 108, 'chatting': 109, 'till': 110, 'next': 111, 'time': 112, 'thank': 113, \"that's\": 114, 'awesome': 115, 'helping': 116}\n"
          ]
        }
      ]
    },
    {
      "cell_type": "code",
      "source": [
        "# Convert the patterns into numerical representations\n",
        "patterns_tokens = []\n",
        "for intent in intents:\n",
        "    intent_patterns_tokens = []\n",
        "    for pattern in intent['patterns']:\n",
        "        pattern_tokens = tokenizer.texts_to_sequences([pattern])[0]\n",
        "        intent_patterns_tokens.append(pattern_tokens)\n",
        "    patterns_tokens.append(intent_patterns_tokens)\n",
        "\n",
        "print(patterns_tokens)\n"
      ],
      "metadata": {
        "colab": {
          "base_uri": "https://localhost:8080/"
        },
        "id": "xHfIusAJlk8H",
        "outputId": "83414f1d-85f1-44c8-d417-693d4efdca06"
      },
      "execution_count": null,
      "outputs": [
        {
          "output_type": "stream",
          "name": "stdout",
          "text": [
            "[[[28], [28], [14, 46, 1], [2, 47, 29], [48], [49], [50], [18, 51, 52], [6, 1, 10, 7]], [[14, 6, 1, 10, 7], [5, 53, 19, 10, 1, 30], [5, 10, 1, 30], [14, 1, 6, 54, 31], [5, 55, 2, 56]], [[15, 20, 57, 58], [15, 20, 59, 60, 3, 32], [15, 20, 61, 32, 62]], [[15, 63, 16, 11, 64, 65], [6, 1, 10, 7, 3, 33, 34, 8, 17, 16, 11], [66, 1, 67, 7, 3, 33, 34], [5, 18, 6, 68, 3, 17, 16, 11, 69], [70, 71, 6, 72, 73, 74, 11, 2, 35, 17], [5, 2, 21, 22, 3, 17, 16, 11]], [[36, 1, 37, 12, 38, 3, 22], [5, 2, 21, 38, 3, 22]], [[75, 76, 77, 39, 78, 79], [23, 2, 80, 40, 24, 81], [23, 2, 35, 82, 83, 84, 85, 86], [23, 2, 87, 39, 40]], [[2, 29, 12, 9, 13], [41, 7, 25, 9], [41, 9], [88, 19, 89, 13], [90, 9], [26, 8, 25, 9]], [], [[91], []], [[36, 1, 37, 12, 92], [12, 93, 3, 9, 26]], [[94, 8, 42, 13], [26, 8, 13, 42], [18, 95, 24, 96, 4], [4, 97, 8, 98], [12, 4, 13]], [[99, 4], [4], []], [[2, 25, 43, 4], [14, 43, 44, 4, 2], [5, 2, 21, 19, 44, 4]], [[45], [1], [], [24, 1, 45], []], [[27], [1], [31], [27], [27, 8, 7]]]\n"
          ]
        }
      ]
    },
    {
      "cell_type": "code",
      "source": [
        "# Pad the sequences to have the same length\n",
        "max_length = 50\n",
        "padded_patterns = []\n",
        "for intent_patterns in patterns_tokens:\n",
        "    padded_intent_patterns = pad_sequences(intent_patterns, maxlen=max_length, padding='post')\n",
        "    padded_patterns.append(padded_intent_patterns)\n"
      ],
      "metadata": {
        "id": "fuKdML-KmgQ8"
      },
      "execution_count": null,
      "outputs": []
    },
    {
      "cell_type": "code",
      "source": [
        "\n",
        "# One-hot encode the intents\n",
        "num_intents = len(intents)\n",
        "intent_labels = to_categorical(range(num_intents), num_classes=num_intents)\n"
      ],
      "metadata": {
        "id": "tnZOA7YgnKZU"
      },
      "execution_count": null,
      "outputs": []
    },
    {
      "cell_type": "code",
      "source": [
        "# Create the training data\n",
        "train_patterns = []\n",
        "train_labels = []\n",
        "for i, padded_intent_patterns in enumerate(padded_patterns):\n",
        "    for pattern in padded_intent_patterns:\n",
        "        train_patterns.append(pattern)\n",
        "        train_labels.append(intent_labels[i])\n"
      ],
      "metadata": {
        "id": "IAIaRPQ5ndLO"
      },
      "execution_count": null,
      "outputs": []
    },
    {
      "cell_type": "code",
      "source": [
        "# Convert the training data to NumPy arrays\n",
        "train_patterns = np.array(train_patterns)\n",
        "train_labels = np.array(train_labels)\n"
      ],
      "metadata": {
        "id": "5bfhnaTfnp3z"
      },
      "execution_count": null,
      "outputs": []
    },
    {
      "cell_type": "code",
      "source": [
        "# Define the model\n",
        "model = Sequential()\n",
        "model.add(Embedding(len(tokenizer.word_index) + 1, 64, input_length=max_length))\n",
        "model.add(Dropout(0.5))\n",
        "model.add(Dense(64, activation='relu'))\n",
        "model.add(Dropout(0.5))\n",
        "model.add(Dense(num_intents, activation='softmax'))\n"
      ],
      "metadata": {
        "id": "NwPEq8etpx6s"
      },
      "execution_count": null,
      "outputs": []
    },
    {
      "cell_type": "code",
      "source": [
        "# Compile the model\n",
        "model.compile(loss='categorical_crossentropy', optimizer='adam', metrics=['accuracy'])\n"
      ],
      "metadata": {
        "id": "f5psDfQTp1EB"
      },
      "execution_count": null,
      "outputs": []
    },
    {
      "cell_type": "code",
      "source": [
        "# Train the model\n",
        "model.fit(train_patterns, train_labels, epochs=100, batch_size=32, validation_split=0.2)\n"
      ],
      "metadata": {
        "colab": {
          "base_uri": "https://localhost:8080/",
          "height": 321
        },
        "id": "bcF-XwLkp7Pg",
        "outputId": "4bce6c94-e3c5-40e1-fc38-cb3595ff13d4"
      },
      "execution_count": null,
      "outputs": [
        {
          "output_type": "stream",
          "name": "stdout",
          "text": [
            "Epoch 1/100\n"
          ]
        },
        {
          "output_type": "error",
          "ename": "AttributeError",
          "evalue": "'NoneType' object has no attribute 'items'",
          "traceback": [
            "\u001b[0;31m---------------------------------------------------------------------------\u001b[0m",
            "\u001b[0;31mAttributeError\u001b[0m                            Traceback (most recent call last)",
            "\u001b[0;32m<ipython-input-27-9cd325fbfa59>\u001b[0m in \u001b[0;36m<cell line: 2>\u001b[0;34m()\u001b[0m\n\u001b[1;32m      1\u001b[0m \u001b[0;31m# Train the model\u001b[0m\u001b[0;34m\u001b[0m\u001b[0;34m\u001b[0m\u001b[0m\n\u001b[0;32m----> 2\u001b[0;31m \u001b[0mmodel\u001b[0m\u001b[0;34m.\u001b[0m\u001b[0mfit\u001b[0m\u001b[0;34m(\u001b[0m\u001b[0mtrain_patterns\u001b[0m\u001b[0;34m,\u001b[0m \u001b[0mtrain_labels\u001b[0m\u001b[0;34m,\u001b[0m \u001b[0mepochs\u001b[0m\u001b[0;34m=\u001b[0m\u001b[0;36m100\u001b[0m\u001b[0;34m,\u001b[0m \u001b[0mbatch_size\u001b[0m\u001b[0;34m=\u001b[0m\u001b[0;36m32\u001b[0m\u001b[0;34m,\u001b[0m \u001b[0mvalidation_split\u001b[0m\u001b[0;34m=\u001b[0m\u001b[0;36m0.2\u001b[0m\u001b[0;34m)\u001b[0m\u001b[0;34m\u001b[0m\u001b[0;34m\u001b[0m\u001b[0m\n\u001b[0m",
            "\u001b[0;32m/usr/local/lib/python3.10/dist-packages/keras/src/utils/traceback_utils.py\u001b[0m in \u001b[0;36merror_handler\u001b[0;34m(*args, **kwargs)\u001b[0m\n\u001b[1;32m    120\u001b[0m             \u001b[0;31m# To get the full stack trace, call:\u001b[0m\u001b[0;34m\u001b[0m\u001b[0;34m\u001b[0m\u001b[0m\n\u001b[1;32m    121\u001b[0m             \u001b[0;31m# `keras.config.disable_traceback_filtering()`\u001b[0m\u001b[0;34m\u001b[0m\u001b[0;34m\u001b[0m\u001b[0m\n\u001b[0;32m--> 122\u001b[0;31m             \u001b[0;32mraise\u001b[0m \u001b[0me\u001b[0m\u001b[0;34m.\u001b[0m\u001b[0mwith_traceback\u001b[0m\u001b[0;34m(\u001b[0m\u001b[0mfiltered_tb\u001b[0m\u001b[0;34m)\u001b[0m \u001b[0;32mfrom\u001b[0m \u001b[0;32mNone\u001b[0m\u001b[0;34m\u001b[0m\u001b[0;34m\u001b[0m\u001b[0m\n\u001b[0m\u001b[1;32m    123\u001b[0m         \u001b[0;32mfinally\u001b[0m\u001b[0;34m:\u001b[0m\u001b[0;34m\u001b[0m\u001b[0;34m\u001b[0m\u001b[0m\n\u001b[1;32m    124\u001b[0m             \u001b[0;32mdel\u001b[0m \u001b[0mfiltered_tb\u001b[0m\u001b[0;34m\u001b[0m\u001b[0;34m\u001b[0m\u001b[0m\n",
            "\u001b[0;32m/usr/local/lib/python3.10/dist-packages/keras/src/trainers/trainer.py\u001b[0m in \u001b[0;36m_pythonify_logs\u001b[0;34m(self, logs)\u001b[0m\n\u001b[1;32m    929\u001b[0m     \u001b[0;32mdef\u001b[0m \u001b[0m_pythonify_logs\u001b[0m\u001b[0;34m(\u001b[0m\u001b[0mself\u001b[0m\u001b[0;34m,\u001b[0m \u001b[0mlogs\u001b[0m\u001b[0;34m)\u001b[0m\u001b[0;34m:\u001b[0m\u001b[0;34m\u001b[0m\u001b[0;34m\u001b[0m\u001b[0m\n\u001b[1;32m    930\u001b[0m         \u001b[0mresult\u001b[0m \u001b[0;34m=\u001b[0m \u001b[0;34m{\u001b[0m\u001b[0;34m}\u001b[0m\u001b[0;34m\u001b[0m\u001b[0;34m\u001b[0m\u001b[0m\n\u001b[0;32m--> 931\u001b[0;31m         \u001b[0;32mfor\u001b[0m \u001b[0mkey\u001b[0m\u001b[0;34m,\u001b[0m \u001b[0mvalue\u001b[0m \u001b[0;32min\u001b[0m \u001b[0msorted\u001b[0m\u001b[0;34m(\u001b[0m\u001b[0mlogs\u001b[0m\u001b[0;34m.\u001b[0m\u001b[0mitems\u001b[0m\u001b[0;34m(\u001b[0m\u001b[0;34m)\u001b[0m\u001b[0;34m)\u001b[0m\u001b[0;34m:\u001b[0m\u001b[0;34m\u001b[0m\u001b[0;34m\u001b[0m\u001b[0m\n\u001b[0m\u001b[1;32m    932\u001b[0m             \u001b[0;32mif\u001b[0m \u001b[0misinstance\u001b[0m\u001b[0;34m(\u001b[0m\u001b[0mvalue\u001b[0m\u001b[0;34m,\u001b[0m \u001b[0mdict\u001b[0m\u001b[0;34m)\u001b[0m\u001b[0;34m:\u001b[0m\u001b[0;34m\u001b[0m\u001b[0;34m\u001b[0m\u001b[0m\n\u001b[1;32m    933\u001b[0m                 \u001b[0mresult\u001b[0m\u001b[0;34m.\u001b[0m\u001b[0mupdate\u001b[0m\u001b[0;34m(\u001b[0m\u001b[0mself\u001b[0m\u001b[0;34m.\u001b[0m\u001b[0m_pythonify_logs\u001b[0m\u001b[0;34m(\u001b[0m\u001b[0mvalue\u001b[0m\u001b[0;34m)\u001b[0m\u001b[0;34m)\u001b[0m\u001b[0;34m\u001b[0m\u001b[0;34m\u001b[0m\u001b[0m\n",
            "\u001b[0;31mAttributeError\u001b[0m: 'NoneType' object has no attribute 'items'"
          ]
        }
      ]
    },
    {
      "cell_type": "code",
      "source": [
        "\n",
        "# Evaluate the model\n",
        "loss, accuracy = model.evaluate(train_patterns, train_labels)\n",
        "print(f'Loss: {loss:.3f}, Accuracy: {accuracy:.3f}')\n",
        "\n"
      ],
      "metadata": {
        "id": "_hzJ4RQOqDsp"
      },
      "execution_count": null,
      "outputs": []
    }
  ]
}