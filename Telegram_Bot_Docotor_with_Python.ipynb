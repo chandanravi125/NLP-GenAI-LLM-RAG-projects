{
  "nbformat": 4,
  "nbformat_minor": 0,
  "metadata": {
    "colab": {
      "provenance": []
    },
    "kernelspec": {
      "name": "python3",
      "display_name": "Python 3"
    },
    "language_info": {
      "name": "python"
    }
  },
  "cells": [
    {
      "cell_type": "markdown",
      "source": [
        "This projects is undergoing"
      ],
      "metadata": {
        "id": "y_5QJ_Xf0RTp"
      }
    },
    {
      "cell_type": "markdown",
      "source": [
        "A bot is a software application programmed to perform certain tasks. The robots are automated, which means that they operate according to their instructions without a human user needing to start them. Bots often mimic or replace the behaviour of a human user. In this article, I will create a Telegram bot with Python, by using the telegram API."
      ],
      "metadata": {
        "id": "V39fAub86GeJ"
      }
    },
    {
      "cell_type": "markdown",
      "source": [
        "To create a Telegram Bot using Python, you need to go through some steps to get a telegram bot API from the BotFather account on Telegram. BotFather is simply s Bot which helps in creating more bots by providing a unique API. So before using python to create our Telegram bot, we need to go through some steps to get the API."
      ],
      "metadata": {
        "id": "3jyJnfO36Sey"
      }
    },
    {
      "cell_type": "markdown",
      "source": [
        "Steps to Get the Telegram Bot API\n",
        "First, create an account on telegram if you don’t have an account. After making your account search for BotFather, which is an official telegram bot that provides API to create more bots. When you will open the chat just write /start and send. The BatFather will reply you with a long text without reading the text you can type Newbot.\n",
        "\n",
        "\n",
        "Now it will reply you again with a long text, asking about a good name for you Telegram bot. You can write any name on it. Now the next step is to give a username to your bot which should be in a format Namebot or Name_bot. And the main thing to notice in this step is that your username should be a unique one, it should not match any other username all around the world.\n",
        "\n",
        "Also, Read – Scraping Twitter with Python.\n",
        "\n",
        "Now after typing a unique username, it will send you an API key between a long message, you need to copy that username and get started with Python."
      ],
      "metadata": {
        "id": "J6YHJTkS6Sgj"
      }
    },
    {
      "cell_type": "markdown",
      "source": [
        "Telegram Bot with Python\n",
        "Now, we have the API key to build our telegram bot, the next step is to install a package known as telegram, which can be easily installed by using the pip command in your command prompt or terminal – pip install python-telegram-bot.\n",
        "\n",
        "\n",
        "After successfully installing the package, now let’s import the required packages and get started to make a Telegram Bot with Python. We only need the telegram package for this task, I will import it and prepare our program to read our API Key:"
      ],
      "metadata": {
        "id": "WUuZHhHz6rqY"
      }
    },
    {
      "cell_type": "code",
      "source": [
        "from telegram import Bot\n",
        "\n",
        "bot = Bot(token='TOKEN')  # Replace TOKEN with your token string"
      ],
      "metadata": {
        "id": "C9qD-vgD6xhW"
      },
      "execution_count": null,
      "outputs": []
    },
    {
      "cell_type": "markdown",
      "source": [
        "Now that everything is working, let’s follow the tradition and create a Hello World program. I will simply program our chatbot here with a command on which our telegram bot will respond with the message “Hello, World”:"
      ],
      "metadata": {
        "id": "ZniP-iWj6-ct"
      }
    },
    {
      "cell_type": "code",
      "source": [],
      "metadata": {
        "id": "kM5iX5cG8kHR"
      },
      "execution_count": null,
      "outputs": []
    }
  ]
}